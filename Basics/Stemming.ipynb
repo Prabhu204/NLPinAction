{
 "cells": [
  {
   "cell_type": "code",
   "execution_count": 1,
   "metadata": {},
   "outputs": [],
   "source": [
    "import nltk\n",
    "tokenizer = nltk.tokenize.TreebankWordTokenizer()"
   ]
  },
  {
   "cell_type": "code",
   "execution_count": 2,
   "metadata": {},
   "outputs": [],
   "source": [
    "text = \"\"\"\n",
    "... that oak trees associated with William Wallace stood in Elderslie (pictured), \n",
    "Port Glasgow and Torwood in Scotland?\n",
    "\"\"\""
   ]
  },
  {
   "cell_type": "code",
   "execution_count": 4,
   "metadata": {},
   "outputs": [
    {
     "data": {
      "text/plain": [
       "['that',\n",
       " 'oak',\n",
       " 'trees',\n",
       " 'associated',\n",
       " 'with',\n",
       " 'William',\n",
       " 'Wallace',\n",
       " 'stood',\n",
       " 'in',\n",
       " 'Elderslie',\n",
       " '(',\n",
       " 'pictured',\n",
       " ')',\n",
       " ',',\n",
       " 'Port',\n",
       " 'Glasgow',\n",
       " 'and',\n",
       " 'Torwood',\n",
       " 'in',\n",
       " 'Scotland',\n",
       " '?']"
      ]
     },
     "execution_count": 4,
     "metadata": {},
     "output_type": "execute_result"
    }
   ],
   "source": [
    "tokens = tokenizer.tokenize(text)\n",
    "tokens"
   ]
  },
  {
   "cell_type": "code",
   "execution_count": 5,
   "metadata": {},
   "outputs": [
    {
     "data": {
      "text/plain": [
       "'that oak tree associ with william wallac stood in eldersli ( pictur ) , port glasgow and torwood in scotland ?'"
      ]
     },
     "execution_count": 5,
     "metadata": {},
     "output_type": "execute_result"
    }
   ],
   "source": [
    "stemmer = nltk.stem.PorterStemmer()\n",
    "stemmed_text = \" \".join(stemmer.stem(token) for token in tokens)\n",
    "stemmed_text"
   ]
  },
  {
   "cell_type": "code",
   "execution_count": 7,
   "metadata": {},
   "outputs": [
    {
     "data": {
      "text/plain": [
       "'that oak tree associated with William Wallace stood in Elderslie ( pictured ) , Port Glasgow and Torwood in Scotland ?'"
      ]
     },
     "execution_count": 7,
     "metadata": {},
     "output_type": "execute_result"
    }
   ],
   "source": [
    "stemmer = nltk.stem.WordNetLemmatizer()\n",
    "stemmed_text = \" \".join(stemmer.lemmatize(token) for token in tokens)\n",
    "stemmed_text"
   ]
  },
  {
   "cell_type": "code",
   "execution_count": null,
   "metadata": {},
   "outputs": [],
   "source": []
  }
 ],
 "metadata": {
  "kernelspec": {
   "display_name": "Python 3",
   "language": "python",
   "name": "python3"
  },
  "language_info": {
   "codemirror_mode": {
    "name": "ipython",
    "version": 3
   },
   "file_extension": ".py",
   "mimetype": "text/x-python",
   "name": "python",
   "nbconvert_exporter": "python",
   "pygments_lexer": "ipython3",
   "version": "3.7.5"
  }
 },
 "nbformat": 4,
 "nbformat_minor": 2
}
